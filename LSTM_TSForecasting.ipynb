{
  "nbformat": 4,
  "nbformat_minor": 0,
  "metadata": {
    "colab": {
      "provenance": [],
      "authorship_tag": "ABX9TyOEA1p28Jz/WucasgZkTbBt",
      "include_colab_link": true
    },
    "kernelspec": {
      "name": "python3",
      "display_name": "Python 3"
    },
    "language_info": {
      "name": "python"
    }
  },
  "cells": [
    {
      "cell_type": "markdown",
      "metadata": {
        "id": "view-in-github",
        "colab_type": "text"
      },
      "source": [
        "<a href=\"https://colab.research.google.com/github/vubanc/BikeTimeSeriesAnalysis/blob/main/LSTM_TSForecasting.ipynb\" target=\"_parent\"><img src=\"https://colab.research.google.com/assets/colab-badge.svg\" alt=\"Open In Colab\"/></a>"
      ]
    },
    {
      "cell_type": "markdown",
      "source": [
        "# **LSTM Time Series Forecasting**"
      ],
      "metadata": {
        "id": "I6FKebfz0SGg"
      }
    },
    {
      "cell_type": "markdown",
      "source": [
        "In this notebook a PyTorch-based LSTM model was used to perform time series forecasting of bike trips for a bikesharing program in Fort Smith, Arkansas. The data was collected between the months of May 2022 and August 2023. Time series forecasting was performed on monthly as well as daily levels. The notebook will be updated as new data is collected."
      ],
      "metadata": {
        "id": "w0o7vfWN0TMR"
      }
    },
    {
      "cell_type": "markdown",
      "source": [
        "### **Importing Libraries and Datasets**"
      ],
      "metadata": {
        "id": "7GdE9MBs14p9"
      }
    },
    {
      "cell_type": "code",
      "execution_count": 1,
      "metadata": {
        "colab": {
          "base_uri": "https://localhost:8080/"
        },
        "id": "Exs2e9uk0LGY",
        "outputId": "bd320837-fe1e-44aa-a67c-fd03269bd793"
      },
      "outputs": [
        {
          "output_type": "stream",
          "name": "stdout",
          "text": [
            "Mounted at /content/drive\n"
          ]
        }
      ],
      "source": [
        "from google.colab import drive\n",
        "drive.mount('/content/drive')"
      ]
    },
    {
      "cell_type": "code",
      "source": [
        "import warnings\n",
        "warnings.filterwarnings(\"ignore\")"
      ],
      "metadata": {
        "id": "-aw7Ak1cSApx"
      },
      "execution_count": 2,
      "outputs": []
    },
    {
      "cell_type": "code",
      "source": [
        "import pandas as pd\n",
        "import numpy as np\n",
        "\n",
        "import matplotlib.pyplot as plt\n",
        "import seaborn as sns\n",
        "from statsmodels.graphics.tsaplots import plot_pacf\n",
        "\n",
        "import torch\n",
        "from torch import nn\n",
        "from torch.utils.data import TensorDataset, DataLoader\n",
        "\n",
        "from sklearn.metrics import r2_score, mean_squared_error\n",
        "from sklearn.model_selection import RandomizedSearchCV\n",
        "\n",
        "!pip install ray\n",
        "from ray import tune"
      ],
      "metadata": {
        "id": "Zlmd0hrH0UuJ",
        "outputId": "3f767e42-19a6-4b4e-cf6c-d139a9164da1",
        "colab": {
          "base_uri": "https://localhost:8080/"
        }
      },
      "execution_count": 110,
      "outputs": [
        {
          "output_type": "stream",
          "name": "stdout",
          "text": [
            "Requirement already satisfied: ray in /usr/local/lib/python3.10/dist-packages (2.6.2)\n",
            "Requirement already satisfied: click>=7.0 in /usr/local/lib/python3.10/dist-packages (from ray) (8.1.6)\n",
            "Requirement already satisfied: filelock in /usr/local/lib/python3.10/dist-packages (from ray) (3.12.2)\n",
            "Requirement already satisfied: jsonschema in /usr/local/lib/python3.10/dist-packages (from ray) (4.19.0)\n",
            "Requirement already satisfied: msgpack<2.0.0,>=1.0.0 in /usr/local/lib/python3.10/dist-packages (from ray) (1.0.5)\n",
            "Requirement already satisfied: packaging in /usr/local/lib/python3.10/dist-packages (from ray) (23.1)\n",
            "Requirement already satisfied: protobuf!=3.19.5,>=3.15.3 in /usr/local/lib/python3.10/dist-packages (from ray) (3.20.3)\n",
            "Requirement already satisfied: pyyaml in /usr/local/lib/python3.10/dist-packages (from ray) (6.0.1)\n",
            "Requirement already satisfied: aiosignal in /usr/local/lib/python3.10/dist-packages (from ray) (1.3.1)\n",
            "Requirement already satisfied: frozenlist in /usr/local/lib/python3.10/dist-packages (from ray) (1.4.0)\n",
            "Requirement already satisfied: requests in /usr/local/lib/python3.10/dist-packages (from ray) (2.31.0)\n",
            "Requirement already satisfied: grpcio>=1.42.0 in /usr/local/lib/python3.10/dist-packages (from ray) (1.56.2)\n",
            "Requirement already satisfied: numpy>=1.19.3 in /usr/local/lib/python3.10/dist-packages (from ray) (1.23.5)\n",
            "Requirement already satisfied: attrs>=22.2.0 in /usr/local/lib/python3.10/dist-packages (from jsonschema->ray) (23.1.0)\n",
            "Requirement already satisfied: jsonschema-specifications>=2023.03.6 in /usr/local/lib/python3.10/dist-packages (from jsonschema->ray) (2023.7.1)\n",
            "Requirement already satisfied: referencing>=0.28.4 in /usr/local/lib/python3.10/dist-packages (from jsonschema->ray) (0.30.2)\n",
            "Requirement already satisfied: rpds-py>=0.7.1 in /usr/local/lib/python3.10/dist-packages (from jsonschema->ray) (0.9.2)\n",
            "Requirement already satisfied: charset-normalizer<4,>=2 in /usr/local/lib/python3.10/dist-packages (from requests->ray) (3.2.0)\n",
            "Requirement already satisfied: idna<4,>=2.5 in /usr/local/lib/python3.10/dist-packages (from requests->ray) (3.4)\n",
            "Requirement already satisfied: urllib3<3,>=1.21.1 in /usr/local/lib/python3.10/dist-packages (from requests->ray) (2.0.4)\n",
            "Requirement already satisfied: certifi>=2017.4.17 in /usr/local/lib/python3.10/dist-packages (from requests->ray) (2023.7.22)\n"
          ]
        }
      ]
    },
    {
      "cell_type": "code",
      "source": [
        "df = pd.read_csv(\"/content/drive/MyDrive/Work/Bikesharing/CombinedRentals_AllStations.csv\")\n",
        "df.head(2)"
      ],
      "metadata": {
        "colab": {
          "base_uri": "https://localhost:8080/",
          "height": 297
        },
        "id": "qEAYWACS2L76",
        "outputId": "1e61209c-c7ac-4e50-b654-bc7bd4804841"
      },
      "execution_count": 234,
      "outputs": [
        {
          "output_type": "execute_result",
          "data": {
            "text/plain": [
              "   index                                    id               user  \\\n",
              "0      1  34ac1576-891f-4aca-a570-31db6160fd6f         Dara Ochoa   \n",
              "1      2  dc96b3e6-f607-452b-ad18-79ea96e033d9  Gervon Pennington   \n",
              "\n",
              "                                user_id   user_phone    start_station  \\\n",
              "0  2112677d-b644-4cb8-866d-58f52b932f76  14792852353  Riverfront Park   \n",
              "1  79ea58b0-0988-47da-b963-a11a52a94f04  19035560048  Riverfront Park   \n",
              "\n",
              "                         start_time                  start_time_local  \\\n",
              "0  2023-08-02 01:09:31.952446+00:00  2023-08-01 19:09:31.952446-06:00   \n",
              "1  2023-08-02 00:48:53.349677+00:00  2023-08-01 18:48:53.349677-06:00   \n",
              "\n",
              "       end_station                          end_time  \\\n",
              "0  Riverfront Park  2023-08-02 01:10:19.952446+00:00   \n",
              "1  Riverfront Park  2023-08-02 01:24:14.349677+00:00   \n",
              "\n",
              "                     end_time_local  kilometers    miles  message_count  type  \\\n",
              "0  2023-08-01 19:10:19.952446-06:00         NaN      NaN            130    22   \n",
              "1  2023-08-01 19:24:14.349677-06:00       4.482  2.78498             41    22   \n",
              "\n",
              "   duration (seconds)  rating  \\\n",
              "0                48.0     NaN   \n",
              "1              2121.0     NaN   \n",
              "\n",
              "                                           device_id     bike_type        Date  \n",
              "0  74164be4e769c0ff30f08acb19724fa186d89b71913e9b...  Regular Bike  2023-08-01  \n",
              "1                                         fMV1Kdc8Km  Regular Bike  2023-08-01  "
            ],
            "text/html": [
              "\n",
              "\n",
              "  <div id=\"df-4c029b67-018b-4500-8986-7c83933da3ad\">\n",
              "    <div class=\"colab-df-container\">\n",
              "      <div>\n",
              "<style scoped>\n",
              "    .dataframe tbody tr th:only-of-type {\n",
              "        vertical-align: middle;\n",
              "    }\n",
              "\n",
              "    .dataframe tbody tr th {\n",
              "        vertical-align: top;\n",
              "    }\n",
              "\n",
              "    .dataframe thead th {\n",
              "        text-align: right;\n",
              "    }\n",
              "</style>\n",
              "<table border=\"1\" class=\"dataframe\">\n",
              "  <thead>\n",
              "    <tr style=\"text-align: right;\">\n",
              "      <th></th>\n",
              "      <th>index</th>\n",
              "      <th>id</th>\n",
              "      <th>user</th>\n",
              "      <th>user_id</th>\n",
              "      <th>user_phone</th>\n",
              "      <th>start_station</th>\n",
              "      <th>start_time</th>\n",
              "      <th>start_time_local</th>\n",
              "      <th>end_station</th>\n",
              "      <th>end_time</th>\n",
              "      <th>end_time_local</th>\n",
              "      <th>kilometers</th>\n",
              "      <th>miles</th>\n",
              "      <th>message_count</th>\n",
              "      <th>type</th>\n",
              "      <th>duration (seconds)</th>\n",
              "      <th>rating</th>\n",
              "      <th>device_id</th>\n",
              "      <th>bike_type</th>\n",
              "      <th>Date</th>\n",
              "    </tr>\n",
              "  </thead>\n",
              "  <tbody>\n",
              "    <tr>\n",
              "      <th>0</th>\n",
              "      <td>1</td>\n",
              "      <td>34ac1576-891f-4aca-a570-31db6160fd6f</td>\n",
              "      <td>Dara Ochoa</td>\n",
              "      <td>2112677d-b644-4cb8-866d-58f52b932f76</td>\n",
              "      <td>14792852353</td>\n",
              "      <td>Riverfront Park</td>\n",
              "      <td>2023-08-02 01:09:31.952446+00:00</td>\n",
              "      <td>2023-08-01 19:09:31.952446-06:00</td>\n",
              "      <td>Riverfront Park</td>\n",
              "      <td>2023-08-02 01:10:19.952446+00:00</td>\n",
              "      <td>2023-08-01 19:10:19.952446-06:00</td>\n",
              "      <td>NaN</td>\n",
              "      <td>NaN</td>\n",
              "      <td>130</td>\n",
              "      <td>22</td>\n",
              "      <td>48.0</td>\n",
              "      <td>NaN</td>\n",
              "      <td>74164be4e769c0ff30f08acb19724fa186d89b71913e9b...</td>\n",
              "      <td>Regular Bike</td>\n",
              "      <td>2023-08-01</td>\n",
              "    </tr>\n",
              "    <tr>\n",
              "      <th>1</th>\n",
              "      <td>2</td>\n",
              "      <td>dc96b3e6-f607-452b-ad18-79ea96e033d9</td>\n",
              "      <td>Gervon Pennington</td>\n",
              "      <td>79ea58b0-0988-47da-b963-a11a52a94f04</td>\n",
              "      <td>19035560048</td>\n",
              "      <td>Riverfront Park</td>\n",
              "      <td>2023-08-02 00:48:53.349677+00:00</td>\n",
              "      <td>2023-08-01 18:48:53.349677-06:00</td>\n",
              "      <td>Riverfront Park</td>\n",
              "      <td>2023-08-02 01:24:14.349677+00:00</td>\n",
              "      <td>2023-08-01 19:24:14.349677-06:00</td>\n",
              "      <td>4.482</td>\n",
              "      <td>2.78498</td>\n",
              "      <td>41</td>\n",
              "      <td>22</td>\n",
              "      <td>2121.0</td>\n",
              "      <td>NaN</td>\n",
              "      <td>fMV1Kdc8Km</td>\n",
              "      <td>Regular Bike</td>\n",
              "      <td>2023-08-01</td>\n",
              "    </tr>\n",
              "  </tbody>\n",
              "</table>\n",
              "</div>\n",
              "      <button class=\"colab-df-convert\" onclick=\"convertToInteractive('df-4c029b67-018b-4500-8986-7c83933da3ad')\"\n",
              "              title=\"Convert this dataframe to an interactive table.\"\n",
              "              style=\"display:none;\">\n",
              "\n",
              "  <svg xmlns=\"http://www.w3.org/2000/svg\" height=\"24px\"viewBox=\"0 0 24 24\"\n",
              "       width=\"24px\">\n",
              "    <path d=\"M0 0h24v24H0V0z\" fill=\"none\"/>\n",
              "    <path d=\"M18.56 5.44l.94 2.06.94-2.06 2.06-.94-2.06-.94-.94-2.06-.94 2.06-2.06.94zm-11 1L8.5 8.5l.94-2.06 2.06-.94-2.06-.94L8.5 2.5l-.94 2.06-2.06.94zm10 10l.94 2.06.94-2.06 2.06-.94-2.06-.94-.94-2.06-.94 2.06-2.06.94z\"/><path d=\"M17.41 7.96l-1.37-1.37c-.4-.4-.92-.59-1.43-.59-.52 0-1.04.2-1.43.59L10.3 9.45l-7.72 7.72c-.78.78-.78 2.05 0 2.83L4 21.41c.39.39.9.59 1.41.59.51 0 1.02-.2 1.41-.59l7.78-7.78 2.81-2.81c.8-.78.8-2.07 0-2.86zM5.41 20L4 18.59l7.72-7.72 1.47 1.35L5.41 20z\"/>\n",
              "  </svg>\n",
              "      </button>\n",
              "\n",
              "\n",
              "\n",
              "    <div id=\"df-43963aa1-acd3-4250-aa7a-4eb1f68fb654\">\n",
              "      <button class=\"colab-df-quickchart\" onclick=\"quickchart('df-43963aa1-acd3-4250-aa7a-4eb1f68fb654')\"\n",
              "              title=\"Suggest charts.\"\n",
              "              style=\"display:none;\">\n",
              "\n",
              "<svg xmlns=\"http://www.w3.org/2000/svg\" height=\"24px\"viewBox=\"0 0 24 24\"\n",
              "     width=\"24px\">\n",
              "    <g>\n",
              "        <path d=\"M19 3H5c-1.1 0-2 .9-2 2v14c0 1.1.9 2 2 2h14c1.1 0 2-.9 2-2V5c0-1.1-.9-2-2-2zM9 17H7v-7h2v7zm4 0h-2V7h2v10zm4 0h-2v-4h2v4z\"/>\n",
              "    </g>\n",
              "</svg>\n",
              "      </button>\n",
              "    </div>\n",
              "\n",
              "<style>\n",
              "  .colab-df-quickchart {\n",
              "    background-color: #E8F0FE;\n",
              "    border: none;\n",
              "    border-radius: 50%;\n",
              "    cursor: pointer;\n",
              "    display: none;\n",
              "    fill: #1967D2;\n",
              "    height: 32px;\n",
              "    padding: 0 0 0 0;\n",
              "    width: 32px;\n",
              "  }\n",
              "\n",
              "  .colab-df-quickchart:hover {\n",
              "    background-color: #E2EBFA;\n",
              "    box-shadow: 0px 1px 2px rgba(60, 64, 67, 0.3), 0px 1px 3px 1px rgba(60, 64, 67, 0.15);\n",
              "    fill: #174EA6;\n",
              "  }\n",
              "\n",
              "  [theme=dark] .colab-df-quickchart {\n",
              "    background-color: #3B4455;\n",
              "    fill: #D2E3FC;\n",
              "  }\n",
              "\n",
              "  [theme=dark] .colab-df-quickchart:hover {\n",
              "    background-color: #434B5C;\n",
              "    box-shadow: 0px 1px 3px 1px rgba(0, 0, 0, 0.15);\n",
              "    filter: drop-shadow(0px 1px 2px rgba(0, 0, 0, 0.3));\n",
              "    fill: #FFFFFF;\n",
              "  }\n",
              "</style>\n",
              "\n",
              "    <script>\n",
              "      async function quickchart(key) {\n",
              "        const containerElement = document.querySelector('#' + key);\n",
              "        const charts = await google.colab.kernel.invokeFunction(\n",
              "            'suggestCharts', [key], {});\n",
              "      }\n",
              "    </script>\n",
              "\n",
              "      <script>\n",
              "\n",
              "function displayQuickchartButton(domScope) {\n",
              "  let quickchartButtonEl =\n",
              "    domScope.querySelector('#df-43963aa1-acd3-4250-aa7a-4eb1f68fb654 button.colab-df-quickchart');\n",
              "  quickchartButtonEl.style.display =\n",
              "    google.colab.kernel.accessAllowed ? 'block' : 'none';\n",
              "}\n",
              "\n",
              "        displayQuickchartButton(document);\n",
              "      </script>\n",
              "      <style>\n",
              "    .colab-df-container {\n",
              "      display:flex;\n",
              "      flex-wrap:wrap;\n",
              "      gap: 12px;\n",
              "    }\n",
              "\n",
              "    .colab-df-convert {\n",
              "      background-color: #E8F0FE;\n",
              "      border: none;\n",
              "      border-radius: 50%;\n",
              "      cursor: pointer;\n",
              "      display: none;\n",
              "      fill: #1967D2;\n",
              "      height: 32px;\n",
              "      padding: 0 0 0 0;\n",
              "      width: 32px;\n",
              "    }\n",
              "\n",
              "    .colab-df-convert:hover {\n",
              "      background-color: #E2EBFA;\n",
              "      box-shadow: 0px 1px 2px rgba(60, 64, 67, 0.3), 0px 1px 3px 1px rgba(60, 64, 67, 0.15);\n",
              "      fill: #174EA6;\n",
              "    }\n",
              "\n",
              "    [theme=dark] .colab-df-convert {\n",
              "      background-color: #3B4455;\n",
              "      fill: #D2E3FC;\n",
              "    }\n",
              "\n",
              "    [theme=dark] .colab-df-convert:hover {\n",
              "      background-color: #434B5C;\n",
              "      box-shadow: 0px 1px 3px 1px rgba(0, 0, 0, 0.15);\n",
              "      filter: drop-shadow(0px 1px 2px rgba(0, 0, 0, 0.3));\n",
              "      fill: #FFFFFF;\n",
              "    }\n",
              "  </style>\n",
              "\n",
              "      <script>\n",
              "        const buttonEl =\n",
              "          document.querySelector('#df-4c029b67-018b-4500-8986-7c83933da3ad button.colab-df-convert');\n",
              "        buttonEl.style.display =\n",
              "          google.colab.kernel.accessAllowed ? 'block' : 'none';\n",
              "\n",
              "        async function convertToInteractive(key) {\n",
              "          const element = document.querySelector('#df-4c029b67-018b-4500-8986-7c83933da3ad');\n",
              "          const dataTable =\n",
              "            await google.colab.kernel.invokeFunction('convertToInteractive',\n",
              "                                                     [key], {});\n",
              "          if (!dataTable) return;\n",
              "\n",
              "          const docLinkHtml = 'Like what you see? Visit the ' +\n",
              "            '<a target=\"_blank\" href=https://colab.research.google.com/notebooks/data_table.ipynb>data table notebook</a>'\n",
              "            + ' to learn more about interactive tables.';\n",
              "          element.innerHTML = '';\n",
              "          dataTable['output_type'] = 'display_data';\n",
              "          await google.colab.output.renderOutput(dataTable, element);\n",
              "          const docLink = document.createElement('div');\n",
              "          docLink.innerHTML = docLinkHtml;\n",
              "          element.appendChild(docLink);\n",
              "        }\n",
              "      </script>\n",
              "    </div>\n",
              "  </div>\n"
            ]
          },
          "metadata": {},
          "execution_count": 234
        }
      ]
    },
    {
      "cell_type": "markdown",
      "source": [
        "### **EDA and Data Preprocesing**"
      ],
      "metadata": {
        "id": "lZTmWpOA4sOQ"
      }
    },
    {
      "cell_type": "code",
      "source": [
        "#Data Manipulation (monthly trips)\n",
        "df.rename(columns={\"Date\":\"date\"}, inplace=True)\n",
        "df[\"month\"] = pd.to_datetime(df[\"date\"]).dt.strftime(\"%Y-%m\")\n",
        "df_monthlyTrips = df.groupby(\"month\", as_index=False)[\"id\"].count()\n",
        "df_monthlyTrips.rename(columns={\"id\":\"trip_count\"}, inplace=True)\n",
        "df_monthlyTrips.set_index(\"month\", inplace=True)\n",
        "df_monthlyTrips.head(2)"
      ],
      "metadata": {
        "colab": {
          "base_uri": "https://localhost:8080/",
          "height": 143
        },
        "id": "NwOjTs6h2c-2",
        "outputId": "a16c7537-18ab-4366-e35d-5dd1c214cb03"
      },
      "execution_count": 235,
      "outputs": [
        {
          "output_type": "execute_result",
          "data": {
            "text/plain": [
              "         trip_count\n",
              "month              \n",
              "2022-05         364\n",
              "2022-06         316"
            ],
            "text/html": [
              "\n",
              "\n",
              "  <div id=\"df-7d85e2ae-93ed-4de6-b150-6c4a0dde7145\">\n",
              "    <div class=\"colab-df-container\">\n",
              "      <div>\n",
              "<style scoped>\n",
              "    .dataframe tbody tr th:only-of-type {\n",
              "        vertical-align: middle;\n",
              "    }\n",
              "\n",
              "    .dataframe tbody tr th {\n",
              "        vertical-align: top;\n",
              "    }\n",
              "\n",
              "    .dataframe thead th {\n",
              "        text-align: right;\n",
              "    }\n",
              "</style>\n",
              "<table border=\"1\" class=\"dataframe\">\n",
              "  <thead>\n",
              "    <tr style=\"text-align: right;\">\n",
              "      <th></th>\n",
              "      <th>trip_count</th>\n",
              "    </tr>\n",
              "    <tr>\n",
              "      <th>month</th>\n",
              "      <th></th>\n",
              "    </tr>\n",
              "  </thead>\n",
              "  <tbody>\n",
              "    <tr>\n",
              "      <th>2022-05</th>\n",
              "      <td>364</td>\n",
              "    </tr>\n",
              "    <tr>\n",
              "      <th>2022-06</th>\n",
              "      <td>316</td>\n",
              "    </tr>\n",
              "  </tbody>\n",
              "</table>\n",
              "</div>\n",
              "      <button class=\"colab-df-convert\" onclick=\"convertToInteractive('df-7d85e2ae-93ed-4de6-b150-6c4a0dde7145')\"\n",
              "              title=\"Convert this dataframe to an interactive table.\"\n",
              "              style=\"display:none;\">\n",
              "\n",
              "  <svg xmlns=\"http://www.w3.org/2000/svg\" height=\"24px\"viewBox=\"0 0 24 24\"\n",
              "       width=\"24px\">\n",
              "    <path d=\"M0 0h24v24H0V0z\" fill=\"none\"/>\n",
              "    <path d=\"M18.56 5.44l.94 2.06.94-2.06 2.06-.94-2.06-.94-.94-2.06-.94 2.06-2.06.94zm-11 1L8.5 8.5l.94-2.06 2.06-.94-2.06-.94L8.5 2.5l-.94 2.06-2.06.94zm10 10l.94 2.06.94-2.06 2.06-.94-2.06-.94-.94-2.06-.94 2.06-2.06.94z\"/><path d=\"M17.41 7.96l-1.37-1.37c-.4-.4-.92-.59-1.43-.59-.52 0-1.04.2-1.43.59L10.3 9.45l-7.72 7.72c-.78.78-.78 2.05 0 2.83L4 21.41c.39.39.9.59 1.41.59.51 0 1.02-.2 1.41-.59l7.78-7.78 2.81-2.81c.8-.78.8-2.07 0-2.86zM5.41 20L4 18.59l7.72-7.72 1.47 1.35L5.41 20z\"/>\n",
              "  </svg>\n",
              "      </button>\n",
              "\n",
              "\n",
              "\n",
              "    <div id=\"df-c8301e1b-aaae-4701-953f-044e8611b485\">\n",
              "      <button class=\"colab-df-quickchart\" onclick=\"quickchart('df-c8301e1b-aaae-4701-953f-044e8611b485')\"\n",
              "              title=\"Suggest charts.\"\n",
              "              style=\"display:none;\">\n",
              "\n",
              "<svg xmlns=\"http://www.w3.org/2000/svg\" height=\"24px\"viewBox=\"0 0 24 24\"\n",
              "     width=\"24px\">\n",
              "    <g>\n",
              "        <path d=\"M19 3H5c-1.1 0-2 .9-2 2v14c0 1.1.9 2 2 2h14c1.1 0 2-.9 2-2V5c0-1.1-.9-2-2-2zM9 17H7v-7h2v7zm4 0h-2V7h2v10zm4 0h-2v-4h2v4z\"/>\n",
              "    </g>\n",
              "</svg>\n",
              "      </button>\n",
              "    </div>\n",
              "\n",
              "<style>\n",
              "  .colab-df-quickchart {\n",
              "    background-color: #E8F0FE;\n",
              "    border: none;\n",
              "    border-radius: 50%;\n",
              "    cursor: pointer;\n",
              "    display: none;\n",
              "    fill: #1967D2;\n",
              "    height: 32px;\n",
              "    padding: 0 0 0 0;\n",
              "    width: 32px;\n",
              "  }\n",
              "\n",
              "  .colab-df-quickchart:hover {\n",
              "    background-color: #E2EBFA;\n",
              "    box-shadow: 0px 1px 2px rgba(60, 64, 67, 0.3), 0px 1px 3px 1px rgba(60, 64, 67, 0.15);\n",
              "    fill: #174EA6;\n",
              "  }\n",
              "\n",
              "  [theme=dark] .colab-df-quickchart {\n",
              "    background-color: #3B4455;\n",
              "    fill: #D2E3FC;\n",
              "  }\n",
              "\n",
              "  [theme=dark] .colab-df-quickchart:hover {\n",
              "    background-color: #434B5C;\n",
              "    box-shadow: 0px 1px 3px 1px rgba(0, 0, 0, 0.15);\n",
              "    filter: drop-shadow(0px 1px 2px rgba(0, 0, 0, 0.3));\n",
              "    fill: #FFFFFF;\n",
              "  }\n",
              "</style>\n",
              "\n",
              "    <script>\n",
              "      async function quickchart(key) {\n",
              "        const containerElement = document.querySelector('#' + key);\n",
              "        const charts = await google.colab.kernel.invokeFunction(\n",
              "            'suggestCharts', [key], {});\n",
              "      }\n",
              "    </script>\n",
              "\n",
              "      <script>\n",
              "\n",
              "function displayQuickchartButton(domScope) {\n",
              "  let quickchartButtonEl =\n",
              "    domScope.querySelector('#df-c8301e1b-aaae-4701-953f-044e8611b485 button.colab-df-quickchart');\n",
              "  quickchartButtonEl.style.display =\n",
              "    google.colab.kernel.accessAllowed ? 'block' : 'none';\n",
              "}\n",
              "\n",
              "        displayQuickchartButton(document);\n",
              "      </script>\n",
              "      <style>\n",
              "    .colab-df-container {\n",
              "      display:flex;\n",
              "      flex-wrap:wrap;\n",
              "      gap: 12px;\n",
              "    }\n",
              "\n",
              "    .colab-df-convert {\n",
              "      background-color: #E8F0FE;\n",
              "      border: none;\n",
              "      border-radius: 50%;\n",
              "      cursor: pointer;\n",
              "      display: none;\n",
              "      fill: #1967D2;\n",
              "      height: 32px;\n",
              "      padding: 0 0 0 0;\n",
              "      width: 32px;\n",
              "    }\n",
              "\n",
              "    .colab-df-convert:hover {\n",
              "      background-color: #E2EBFA;\n",
              "      box-shadow: 0px 1px 2px rgba(60, 64, 67, 0.3), 0px 1px 3px 1px rgba(60, 64, 67, 0.15);\n",
              "      fill: #174EA6;\n",
              "    }\n",
              "\n",
              "    [theme=dark] .colab-df-convert {\n",
              "      background-color: #3B4455;\n",
              "      fill: #D2E3FC;\n",
              "    }\n",
              "\n",
              "    [theme=dark] .colab-df-convert:hover {\n",
              "      background-color: #434B5C;\n",
              "      box-shadow: 0px 1px 3px 1px rgba(0, 0, 0, 0.15);\n",
              "      filter: drop-shadow(0px 1px 2px rgba(0, 0, 0, 0.3));\n",
              "      fill: #FFFFFF;\n",
              "    }\n",
              "  </style>\n",
              "\n",
              "      <script>\n",
              "        const buttonEl =\n",
              "          document.querySelector('#df-7d85e2ae-93ed-4de6-b150-6c4a0dde7145 button.colab-df-convert');\n",
              "        buttonEl.style.display =\n",
              "          google.colab.kernel.accessAllowed ? 'block' : 'none';\n",
              "\n",
              "        async function convertToInteractive(key) {\n",
              "          const element = document.querySelector('#df-7d85e2ae-93ed-4de6-b150-6c4a0dde7145');\n",
              "          const dataTable =\n",
              "            await google.colab.kernel.invokeFunction('convertToInteractive',\n",
              "                                                     [key], {});\n",
              "          if (!dataTable) return;\n",
              "\n",
              "          const docLinkHtml = 'Like what you see? Visit the ' +\n",
              "            '<a target=\"_blank\" href=https://colab.research.google.com/notebooks/data_table.ipynb>data table notebook</a>'\n",
              "            + ' to learn more about interactive tables.';\n",
              "          element.innerHTML = '';\n",
              "          dataTable['output_type'] = 'display_data';\n",
              "          await google.colab.output.renderOutput(dataTable, element);\n",
              "          const docLink = document.createElement('div');\n",
              "          docLink.innerHTML = docLinkHtml;\n",
              "          element.appendChild(docLink);\n",
              "        }\n",
              "      </script>\n",
              "    </div>\n",
              "  </div>\n"
            ]
          },
          "metadata": {},
          "execution_count": 235
        }
      ]
    },
    {
      "cell_type": "code",
      "source": [
        "#Data Manipulation (Daily)\n",
        "min_date = df.date.min()\n",
        "max_date = df.date.max()\n",
        "\n",
        "dates = pd.DataFrame(pd.date_range(start=min_date, end=max_date))\n",
        "dates.rename(columns={0:\"date\"}, inplace=True)\n",
        "df[\"date\"] = pd.to_datetime(df.date)\n",
        "df = pd.merge(dates, df, how=\"left\", on=\"date\")\n",
        "df_dailyTrips = pd.DataFrame(df.groupby(\"date\", as_index=True)[\"id\"].count())\n",
        "df_dailyTrips.rename(columns={\"id\":\"trip_count\"}, inplace=True)\n",
        "df_dailyTrips.head(2)"
      ],
      "metadata": {
        "colab": {
          "base_uri": "https://localhost:8080/",
          "height": 143
        },
        "id": "cXyY_d2V200H",
        "outputId": "0e699472-35e5-4bd5-b3a3-baf5c9317d00"
      },
      "execution_count": 236,
      "outputs": [
        {
          "output_type": "execute_result",
          "data": {
            "text/plain": [
              "            trip_count\n",
              "date                  \n",
              "2022-05-02           2\n",
              "2022-05-03          14"
            ],
            "text/html": [
              "\n",
              "\n",
              "  <div id=\"df-32646cef-4727-4679-a82e-7213915b38f4\">\n",
              "    <div class=\"colab-df-container\">\n",
              "      <div>\n",
              "<style scoped>\n",
              "    .dataframe tbody tr th:only-of-type {\n",
              "        vertical-align: middle;\n",
              "    }\n",
              "\n",
              "    .dataframe tbody tr th {\n",
              "        vertical-align: top;\n",
              "    }\n",
              "\n",
              "    .dataframe thead th {\n",
              "        text-align: right;\n",
              "    }\n",
              "</style>\n",
              "<table border=\"1\" class=\"dataframe\">\n",
              "  <thead>\n",
              "    <tr style=\"text-align: right;\">\n",
              "      <th></th>\n",
              "      <th>trip_count</th>\n",
              "    </tr>\n",
              "    <tr>\n",
              "      <th>date</th>\n",
              "      <th></th>\n",
              "    </tr>\n",
              "  </thead>\n",
              "  <tbody>\n",
              "    <tr>\n",
              "      <th>2022-05-02</th>\n",
              "      <td>2</td>\n",
              "    </tr>\n",
              "    <tr>\n",
              "      <th>2022-05-03</th>\n",
              "      <td>14</td>\n",
              "    </tr>\n",
              "  </tbody>\n",
              "</table>\n",
              "</div>\n",
              "      <button class=\"colab-df-convert\" onclick=\"convertToInteractive('df-32646cef-4727-4679-a82e-7213915b38f4')\"\n",
              "              title=\"Convert this dataframe to an interactive table.\"\n",
              "              style=\"display:none;\">\n",
              "\n",
              "  <svg xmlns=\"http://www.w3.org/2000/svg\" height=\"24px\"viewBox=\"0 0 24 24\"\n",
              "       width=\"24px\">\n",
              "    <path d=\"M0 0h24v24H0V0z\" fill=\"none\"/>\n",
              "    <path d=\"M18.56 5.44l.94 2.06.94-2.06 2.06-.94-2.06-.94-.94-2.06-.94 2.06-2.06.94zm-11 1L8.5 8.5l.94-2.06 2.06-.94-2.06-.94L8.5 2.5l-.94 2.06-2.06.94zm10 10l.94 2.06.94-2.06 2.06-.94-2.06-.94-.94-2.06-.94 2.06-2.06.94z\"/><path d=\"M17.41 7.96l-1.37-1.37c-.4-.4-.92-.59-1.43-.59-.52 0-1.04.2-1.43.59L10.3 9.45l-7.72 7.72c-.78.78-.78 2.05 0 2.83L4 21.41c.39.39.9.59 1.41.59.51 0 1.02-.2 1.41-.59l7.78-7.78 2.81-2.81c.8-.78.8-2.07 0-2.86zM5.41 20L4 18.59l7.72-7.72 1.47 1.35L5.41 20z\"/>\n",
              "  </svg>\n",
              "      </button>\n",
              "\n",
              "\n",
              "\n",
              "    <div id=\"df-c337d5a1-032a-4b32-84fb-c1102e830cc7\">\n",
              "      <button class=\"colab-df-quickchart\" onclick=\"quickchart('df-c337d5a1-032a-4b32-84fb-c1102e830cc7')\"\n",
              "              title=\"Suggest charts.\"\n",
              "              style=\"display:none;\">\n",
              "\n",
              "<svg xmlns=\"http://www.w3.org/2000/svg\" height=\"24px\"viewBox=\"0 0 24 24\"\n",
              "     width=\"24px\">\n",
              "    <g>\n",
              "        <path d=\"M19 3H5c-1.1 0-2 .9-2 2v14c0 1.1.9 2 2 2h14c1.1 0 2-.9 2-2V5c0-1.1-.9-2-2-2zM9 17H7v-7h2v7zm4 0h-2V7h2v10zm4 0h-2v-4h2v4z\"/>\n",
              "    </g>\n",
              "</svg>\n",
              "      </button>\n",
              "    </div>\n",
              "\n",
              "<style>\n",
              "  .colab-df-quickchart {\n",
              "    background-color: #E8F0FE;\n",
              "    border: none;\n",
              "    border-radius: 50%;\n",
              "    cursor: pointer;\n",
              "    display: none;\n",
              "    fill: #1967D2;\n",
              "    height: 32px;\n",
              "    padding: 0 0 0 0;\n",
              "    width: 32px;\n",
              "  }\n",
              "\n",
              "  .colab-df-quickchart:hover {\n",
              "    background-color: #E2EBFA;\n",
              "    box-shadow: 0px 1px 2px rgba(60, 64, 67, 0.3), 0px 1px 3px 1px rgba(60, 64, 67, 0.15);\n",
              "    fill: #174EA6;\n",
              "  }\n",
              "\n",
              "  [theme=dark] .colab-df-quickchart {\n",
              "    background-color: #3B4455;\n",
              "    fill: #D2E3FC;\n",
              "  }\n",
              "\n",
              "  [theme=dark] .colab-df-quickchart:hover {\n",
              "    background-color: #434B5C;\n",
              "    box-shadow: 0px 1px 3px 1px rgba(0, 0, 0, 0.15);\n",
              "    filter: drop-shadow(0px 1px 2px rgba(0, 0, 0, 0.3));\n",
              "    fill: #FFFFFF;\n",
              "  }\n",
              "</style>\n",
              "\n",
              "    <script>\n",
              "      async function quickchart(key) {\n",
              "        const containerElement = document.querySelector('#' + key);\n",
              "        const charts = await google.colab.kernel.invokeFunction(\n",
              "            'suggestCharts', [key], {});\n",
              "      }\n",
              "    </script>\n",
              "\n",
              "      <script>\n",
              "\n",
              "function displayQuickchartButton(domScope) {\n",
              "  let quickchartButtonEl =\n",
              "    domScope.querySelector('#df-c337d5a1-032a-4b32-84fb-c1102e830cc7 button.colab-df-quickchart');\n",
              "  quickchartButtonEl.style.display =\n",
              "    google.colab.kernel.accessAllowed ? 'block' : 'none';\n",
              "}\n",
              "\n",
              "        displayQuickchartButton(document);\n",
              "      </script>\n",
              "      <style>\n",
              "    .colab-df-container {\n",
              "      display:flex;\n",
              "      flex-wrap:wrap;\n",
              "      gap: 12px;\n",
              "    }\n",
              "\n",
              "    .colab-df-convert {\n",
              "      background-color: #E8F0FE;\n",
              "      border: none;\n",
              "      border-radius: 50%;\n",
              "      cursor: pointer;\n",
              "      display: none;\n",
              "      fill: #1967D2;\n",
              "      height: 32px;\n",
              "      padding: 0 0 0 0;\n",
              "      width: 32px;\n",
              "    }\n",
              "\n",
              "    .colab-df-convert:hover {\n",
              "      background-color: #E2EBFA;\n",
              "      box-shadow: 0px 1px 2px rgba(60, 64, 67, 0.3), 0px 1px 3px 1px rgba(60, 64, 67, 0.15);\n",
              "      fill: #174EA6;\n",
              "    }\n",
              "\n",
              "    [theme=dark] .colab-df-convert {\n",
              "      background-color: #3B4455;\n",
              "      fill: #D2E3FC;\n",
              "    }\n",
              "\n",
              "    [theme=dark] .colab-df-convert:hover {\n",
              "      background-color: #434B5C;\n",
              "      box-shadow: 0px 1px 3px 1px rgba(0, 0, 0, 0.15);\n",
              "      filter: drop-shadow(0px 1px 2px rgba(0, 0, 0, 0.3));\n",
              "      fill: #FFFFFF;\n",
              "    }\n",
              "  </style>\n",
              "\n",
              "      <script>\n",
              "        const buttonEl =\n",
              "          document.querySelector('#df-32646cef-4727-4679-a82e-7213915b38f4 button.colab-df-convert');\n",
              "        buttonEl.style.display =\n",
              "          google.colab.kernel.accessAllowed ? 'block' : 'none';\n",
              "\n",
              "        async function convertToInteractive(key) {\n",
              "          const element = document.querySelector('#df-32646cef-4727-4679-a82e-7213915b38f4');\n",
              "          const dataTable =\n",
              "            await google.colab.kernel.invokeFunction('convertToInteractive',\n",
              "                                                     [key], {});\n",
              "          if (!dataTable) return;\n",
              "\n",
              "          const docLinkHtml = 'Like what you see? Visit the ' +\n",
              "            '<a target=\"_blank\" href=https://colab.research.google.com/notebooks/data_table.ipynb>data table notebook</a>'\n",
              "            + ' to learn more about interactive tables.';\n",
              "          element.innerHTML = '';\n",
              "          dataTable['output_type'] = 'display_data';\n",
              "          await google.colab.output.renderOutput(dataTable, element);\n",
              "          const docLink = document.createElement('div');\n",
              "          docLink.innerHTML = docLinkHtml;\n",
              "          element.appendChild(docLink);\n",
              "        }\n",
              "      </script>\n",
              "    </div>\n",
              "  </div>\n"
            ]
          },
          "metadata": {},
          "execution_count": 236
        }
      ]
    },
    {
      "cell_type": "code",
      "source": [
        "#Distribution of monthly and daily trips\n",
        "fig, axs = plt.subplots(1,2, figsize=(30,5))\n",
        "axs[0].set_title(\"Monthly Trips\")\n",
        "axs[1].set_title(\"Daily Trips\")\n",
        "sns.boxplot(df_monthlyTrips, x=\"trip_count\", color=\"red\", ax=axs[0])\n",
        "sns.boxplot(df_dailyTrips, x=\"trip_count\", color=\"indigo\", ax=axs[1])"
      ],
      "metadata": {
        "colab": {
          "base_uri": "https://localhost:8080/",
          "height": 352
        },
        "id": "B6NfplyV3K0o",
        "outputId": "3b964b01-67da-47c5-9c3e-72fe90f5560c"
      },
      "execution_count": 237,
      "outputs": [
        {
          "output_type": "execute_result",
          "data": {
            "text/plain": [
              "<Axes: title={'center': 'Daily Trips'}, xlabel='trip_count'>"
            ]
          },
          "metadata": {},
          "execution_count": 237
        },
        {
          "output_type": "display_data",
          "data": {
            "text/plain": [
              "<Figure size 3000x500 with 2 Axes>"
            ],
            "image/png": "[encoded data removed]"
          },
          "metadata": {}
        }
      ]
    },
    {
      "cell_type": "code",
      "source": [
        "#Monthly Trend\n",
        "fig, axs = plt.subplots(1,1, figsize=(20,5))\n",
        "plt.plot(df_monthlyTrips['trip_count'], color=\"navy\")"
      ],
      "metadata": {
        "colab": {
          "base_uri": "https://localhost:8080/",
          "height": 458
        },
        "id": "D51Cu-GF8Hd4",
        "outputId": "1452c0e0-214f-4490-eb53-1d40abb1a32b"
      },
      "execution_count": 238,
      "outputs": [
        {
          "output_type": "execute_result",
          "data": {
            "text/plain": [
              "[<matplotlib.lines.Line2D at 0x7a6c7f38eb60>]"
            ]
          },
          "metadata": {},
          "execution_count": 238
        },
        {
          "output_type": "display_data",
          "data": {
            "text/plain": [
              "<Figure size 2000x500 with 1 Axes>"
            ],
            "image/png": "[encoded data removed]"
          },
          "metadata": {}
        }
      ]
    },
    {
      "cell_type": "code",
      "source": [
        "#Daily Trend\n",
        "fig, axs = plt.subplots(1,1, figsize=(20,5))\n",
        "plt.plot(df_dailyTrips['trip_count'], color=\"navy\")"
      ],
      "metadata": {
        "colab": {
          "base_uri": "https://localhost:8080/",
          "height": 460
        },
        "id": "FYiZj2L7_3KI",
        "outputId": "1764ea1f-b333-4a49-b5b8-f7713b48eff0"
      },
      "execution_count": 239,
      "outputs": [
        {
          "output_type": "execute_result",
          "data": {
            "text/plain": [
              "[<matplotlib.lines.Line2D at 0x7a6c7f41cf10>]"
            ]
          },
          "metadata": {},
          "execution_count": 239
        },
        {
          "output_type": "display_data",
          "data": {
            "text/plain": [
              "<Figure size 2000x500 with 1 Axes>"
            ],
            "image/png": "[encoded data removed]"
          },
          "metadata": {}
        }
      ]
    },
    {
      "cell_type": "code",
      "source": [
        "#Partial autocorrelation (monthly and daily)\n",
        "fig, axs = plt.subplots(1,2, figsize=(25,5))\n",
        "\n",
        "plot_pacf(df_monthlyTrips, ax=axs[0], lags=6)\n",
        "plot_pacf(df_dailyTrips, ax=axs[1], lags=30)\n",
        "\n",
        "plt.show()"
      ],
      "metadata": {
        "colab": {
          "base_uri": "https://localhost:8080/",
          "height": 373
        },
        "id": "PJzwrKtlRD4n",
        "outputId": "42d81df5-343c-4b73-e4d1-211912a4ebfc"
      },
      "execution_count": 240,
      "outputs": [
        {
          "output_type": "display_data",
          "data": {
            "text/plain": [
              "<Figure size 2500x500 with 2 Axes>"
            ],
            "image/png": "[encoded data removed]"
          },
          "metadata": {}
        }
      ]
    },
    {
      "cell_type": "markdown",
      "source": [
        "### **Feature Engineering**"
      ],
      "metadata": {
        "id": "3-92jGMIXgie"
      }
    },
    {
      "cell_type": "code",
      "source": [
        "#Creating LSTM input features with 7 lags\n",
        "df_dailyTrips[\"trip_count\"] = df_dailyTrips[\"trip_count\"].astype(int)\n",
        "df_dailyTrips[\"t-1\"] = df_dailyTrips.trip_count.shift(1)\n",
        "df_dailyTrips[\"t-2\"] = df_dailyTrips.trip_count.shift(2)\n",
        "df_dailyTrips[\"t-3\"] = df_dailyTrips.trip_count.shift(3)\n",
        "df_dailyTrips[\"t-4\"] = df_dailyTrips.trip_count.shift(4)\n",
        "df_dailyTrips[\"t-5\"] = df_dailyTrips.trip_count.shift(5)\n",
        "df_dailyTrips[\"t-6\"] = df_dailyTrips.trip_count.shift(6)\n",
        "df_dailyTrips[\"t-7\"] = df_dailyTrips.trip_count.shift(7)\n",
        "\n",
        "df_dailyTrips = df_dailyTrips[[\"t-7\", \"t-6\", \"t-5\", \"t-4\", \"t-3\", \"t-2\", \"t-1\", \"trip_count\"]]\n",
        "df_dailyTrips = df_dailyTrips[df_dailyTrips.index.strftime(\"%Y-%m-%d\")>=\"2022-05-09\"].astype(int)\n",
        "df_dailyTrips.head(10)"
      ],
      "metadata": {
        "colab": {
          "base_uri": "https://localhost:8080/",
          "height": 394
        },
        "id": "Va5b6fX5prCf",
        "outputId": "2a8d38e5-fc9b-4b81-9bb0-68133959750e"
      },
      "execution_count": 241,
      "outputs": [
        {
          "output_type": "execute_result",
          "data": {
            "text/plain": [
              "            t-7  t-6  t-5  t-4  t-3  t-2  t-1  trip_count\n",
              "date                                                     \n",
              "2022-05-09    2   14    7    6    9   24   30           5\n",
              "2022-05-10   14    7    6    9   24   30    5           4\n",
              "2022-05-11    7    6    9   24   30    5    4           4\n",
              "2022-05-12    6    9   24   30    5    4    4          16\n",
              "2022-05-13    9   24   30    5    4    4   16          17\n",
              "2022-05-14   24   30    5    4    4   16   17          23\n",
              "2022-05-15   30    5    4    4   16   17   23          11\n",
              "2022-05-16    5    4    4   16   17   23   11          26\n",
              "2022-05-17    4    4   16   17   23   11   26          11\n",
              "2022-05-18    4   16   17   23   11   26   11           9"
            ],
            "text/html": [
              "\n",
              "\n",
              "  <div id=\"df-41f79b9a-6bc1-48a9-b912-f78721395bd3\">\n",
              "    <div class=\"colab-df-container\">\n",
              "      <div>\n",
              "<style scoped>\n",
              "    .dataframe tbody tr th:only-of-type {\n",
              "        vertical-align: middle;\n",
              "    }\n",
              "\n",
              "    .dataframe tbody tr th {\n",
              "        vertical-align: top;\n",
              "    }\n",
              "\n",
              "    .dataframe thead th {\n",
              "        text-align: right;\n",
              "    }\n",
              "</style>\n",
              "<table border=\"1\" class=\"dataframe\">\n",
              "  <thead>\n",
              "    <tr style=\"text-align: right;\">\n",
              "      <th></th>\n",
              "      <th>t-7</th>\n",
              "      <th>t-6</th>\n",
              "      <th>t-5</th>\n",
              "      <th>t-4</th>\n",
              "      <th>t-3</th>\n",
              "      <th>t-2</th>\n",
              "      <th>t-1</th>\n",
              "      <th>trip_count</th>\n",
              "    </tr>\n",
              "    <tr>\n",
              "      <th>date</th>\n",
              "      <th></th>\n",
              "      <th></th>\n",
              "      <th></th>\n",
              "      <th></th>\n",
              "      <th></th>\n",
              "      <th></th>\n",
              "      <th></th>\n",
              "      <th></th>\n",
              "    </tr>\n",
              "  </thead>\n",
              "  <tbody>\n",
              "    <tr>\n",
              "      <th>2022-05-09</th>\n",
              "      <td>2</td>\n",
              "      <td>14</td>\n",
              "      <td>7</td>\n",
              "      <td>6</td>\n",
              "      <td>9</td>\n",
              "      <td>24</td>\n",
              "      <td>30</td>\n",
              "      <td>5</td>\n",
              "    </tr>\n",
              "    <tr>\n",
              "      <th>2022-05-10</th>\n",
              "      <td>14</td>\n",
              "      <td>7</td>\n",
              "      <td>6</td>\n",
              "      <td>9</td>\n",
              "      <td>24</td>\n",
              "      <td>30</td>\n",
              "      <td>5</td>\n",
              "      <td>4</td>\n",
              "    </tr>\n",
              "    <tr>\n",
              "      <th>2022-05-11</th>\n",
              "      <td>7</td>\n",
              "      <td>6</td>\n",
              "      <td>9</td>\n",
              "      <td>24</td>\n",
              "      <td>30</td>\n",
              "      <td>5</td>\n",
              "      <td>4</td>\n",
              "      <td>4</td>\n",
              "    </tr>\n",
              "    <tr>\n",
              "      <th>2022-05-12</th>\n",
              "      <td>6</td>\n",
              "      <td>9</td>\n",
              "      <td>24</td>\n",
              "      <td>30</td>\n",
              "      <td>5</td>\n",
              "      <td>4</td>\n",
              "      <td>4</td>\n",
              "      <td>16</td>\n",
              "    </tr>\n",
              "    <tr>\n",
              "      <th>2022-05-13</th>\n",
              "      <td>9</td>\n",
              "      <td>24</td>\n",
              "      <td>30</td>\n",
              "      <td>5</td>\n",
              "      <td>4</td>\n",
              "      <td>4</td>\n",
              "      <td>16</td>\n",
              "      <td>17</td>\n",
              "    </tr>\n",
              "    <tr>\n",
              "      <th>2022-05-14</th>\n",
              "      <td>24</td>\n",
              "      <td>30</td>\n",
              "      <td>5</td>\n",
              "      <td>4</td>\n",
              "      <td>4</td>\n",
              "      <td>16</td>\n",
              "      <td>17</td>\n",
              "      <td>23</td>\n",
              "    </tr>\n",
              "    <tr>\n",
              "      <th>2022-05-15</th>\n",
              "      <td>30</td>\n",
              "      <td>5</td>\n",
              "      <td>4</td>\n",
              "      <td>4</td>\n",
              "      <td>16</td>\n",
              "      <td>17</td>\n",
              "      <td>23</td>\n",
              "      <td>11</td>\n",
              "    </tr>\n",
              "    <tr>\n",
              "      <th>2022-05-16</th>\n",
              "      <td>5</td>\n",
              "      <td>4</td>\n",
              "      <td>4</td>\n",
              "      <td>16</td>\n",
              "      <td>17</td>\n",
              "      <td>23</td>\n",
              "      <td>11</td>\n",
              "      <td>26</td>\n",
              "    </tr>\n",
              "    <tr>\n",
              "      <th>2022-05-17</th>\n",
              "      <td>4</td>\n",
              "      <td>4</td>\n",
              "      <td>16</td>\n",
              "      <td>17</td>\n",
              "      <td>23</td>\n",
              "      <td>11</td>\n",
              "      <td>26</td>\n",
              "      <td>11</td>\n",
              "    </tr>\n",
              "    <tr>\n",
              "      <th>2022-05-18</th>\n",
              "      <td>4</td>\n",
              "      <td>16</td>\n",
              "      <td>17</td>\n",
              "      <td>23</td>\n",
              "      <td>11</td>\n",
              "      <td>26</td>\n",
              "      <td>11</td>\n",
              "      <td>9</td>\n",
              "    </tr>\n",
              "  </tbody>\n",
              "</table>\n",
              "</div>\n",
              "      <button class=\"colab-df-convert\" onclick=\"convertToInteractive('df-41f79b9a-6bc1-48a9-b912-f78721395bd3')\"\n",
              "              title=\"Convert this dataframe to an interactive table.\"\n",
              "              style=\"display:none;\">\n",
              "\n",
              "  <svg xmlns=\"http://www.w3.org/2000/svg\" height=\"24px\"viewBox=\"0 0 24 24\"\n",
              "       width=\"24px\">\n",
              "    <path d=\"M0 0h24v24H0V0z\" fill=\"none\"/>\n",
              "    <path d=\"M18.56 5.44l.94 2.06.94-2.06 2.06-.94-2.06-.94-.94-2.06-.94 2.06-2.06.94zm-11 1L8.5 8.5l.94-2.06 2.06-.94-2.06-.94L8.5 2.5l-.94 2.06-2.06.94zm10 10l.94 2.06.94-2.06 2.06-.94-2.06-.94-.94-2.06-.94 2.06-2.06.94z\"/><path d=\"M17.41 7.96l-1.37-1.37c-.4-.4-.92-.59-1.43-.59-.52 0-1.04.2-1.43.59L10.3 9.45l-7.72 7.72c-.78.78-.78 2.05 0 2.83L4 21.41c.39.39.9.59 1.41.59.51 0 1.02-.2 1.41-.59l7.78-7.78 2.81-2.81c.8-.78.8-2.07 0-2.86zM5.41 20L4 18.59l7.72-7.72 1.47 1.35L5.41 20z\"/>\n",
              "  </svg>\n",
              "      </button>\n",
              "\n",
              "\n",
              "\n",
              "    <div id=\"df-d0cdeccd-5334-4b9f-88e8-9414b535f049\">\n",
              "      <button class=\"colab-df-quickchart\" onclick=\"quickchart('df-d0cdeccd-5334-4b9f-88e8-9414b535f049')\"\n",
              "              title=\"Suggest charts.\"\n",
              "              style=\"display:none;\">\n",
              "\n",
              "<svg xmlns=\"http://www.w3.org/2000/svg\" height=\"24px\"viewBox=\"0 0 24 24\"\n",
              "     width=\"24px\">\n",
              "    <g>\n",
              "        <path d=\"M19 3H5c-1.1 0-2 .9-2 2v14c0 1.1.9 2 2 2h14c1.1 0 2-.9 2-2V5c0-1.1-.9-2-2-2zM9 17H7v-7h2v7zm4 0h-2V7h2v10zm4 0h-2v-4h2v4z\"/>\n",
              "    </g>\n",
              "</svg>\n",
              "      </button>\n",
              "    </div>\n",
              "\n",
              "<style>\n",
              "  .colab-df-quickchart {\n",
              "    background-color: #E8F0FE;\n",
              "    border: none;\n",
              "    border-radius: 50%;\n",
              "    cursor: pointer;\n",
              "    display: none;\n",
              "    fill: #1967D2;\n",
              "    height: 32px;\n",
              "    padding: 0 0 0 0;\n",
              "    width: 32px;\n",
              "  }\n",
              "\n",
              "  .colab-df-quickchart:hover {\n",
              "    background-color: #E2EBFA;\n",
              "    box-shadow: 0px 1px 2px rgba(60, 64, 67, 0.3), 0px 1px 3px 1px rgba(60, 64, 67, 0.15);\n",
              "    fill: #174EA6;\n",
              "  }\n",
              "\n",
              "  [theme=dark] .colab-df-quickchart {\n",
              "    background-color: #3B4455;\n",
              "    fill: #D2E3FC;\n",
              "  }\n",
              "\n",
              "  [theme=dark] .colab-df-quickchart:hover {\n",
              "    background-color: #434B5C;\n",
              "    box-shadow: 0px 1px 3px 1px rgba(0, 0, 0, 0.15);\n",
              "    filter: drop-shadow(0px 1px 2px rgba(0, 0, 0, 0.3));\n",
              "    fill: #FFFFFF;\n",
              "  }\n",
              "</style>\n",
              "\n",
              "    <script>\n",
              "      async function quickchart(key) {\n",
              "        const containerElement = document.querySelector('#' + key);\n",
              "        const charts = await google.colab.kernel.invokeFunction(\n",
              "            'suggestCharts', [key], {});\n",
              "      }\n",
              "    </script>\n",
              "\n",
              "      <script>\n",
              "\n",
              "function displayQuickchartButton(domScope) {\n",
              "  let quickchartButtonEl =\n",
              "    domScope.querySelector('#df-d0cdeccd-5334-4b9f-88e8-9414b535f049 button.colab-df-quickchart');\n",
              "  quickchartButtonEl.style.display =\n",
              "    google.colab.kernel.accessAllowed ? 'block' : 'none';\n",
              "}\n",
              "\n",
              "        displayQuickchartButton(document);\n",
              "      </script>\n",
              "      <style>\n",
              "    .colab-df-container {\n",
              "      display:flex;\n",
              "      flex-wrap:wrap;\n",
              "      gap: 12px;\n",
              "    }\n",
              "\n",
              "    .colab-df-convert {\n",
              "      background-color: #E8F0FE;\n",
              "      border: none;\n",
              "      border-radius: 50%;\n",
              "      cursor: pointer;\n",
              "      display: none;\n",
              "      fill: #1967D2;\n",
              "      height: 32px;\n",
              "      padding: 0 0 0 0;\n",
              "      width: 32px;\n",
              "    }\n",
              "\n",
              "    .colab-df-convert:hover {\n",
              "      background-color: #E2EBFA;\n",
              "      box-shadow: 0px 1px 2px rgba(60, 64, 67, 0.3), 0px 1px 3px 1px rgba(60, 64, 67, 0.15);\n",
              "      fill: #174EA6;\n",
              "    }\n",
              "\n",
              "    [theme=dark] .colab-df-convert {\n",
              "      background-color: #3B4455;\n",
              "      fill: #D2E3FC;\n",
              "    }\n",
              "\n",
              "    [theme=dark] .colab-df-convert:hover {\n",
              "      background-color: #434B5C;\n",
              "      box-shadow: 0px 1px 3px 1px rgba(0, 0, 0, 0.15);\n",
              "      filter: drop-shadow(0px 1px 2px rgba(0, 0, 0, 0.3));\n",
              "      fill: #FFFFFF;\n",
              "    }\n",
              "  </style>\n",
              "\n",
              "      <script>\n",
              "        const buttonEl =\n",
              "          document.querySelector('#df-41f79b9a-6bc1-48a9-b912-f78721395bd3 button.colab-df-convert');\n",
              "        buttonEl.style.display =\n",
              "          google.colab.kernel.accessAllowed ? 'block' : 'none';\n",
              "\n",
              "        async function convertToInteractive(key) {\n",
              "          const element = document.querySelector('#df-41f79b9a-6bc1-48a9-b912-f78721395bd3');\n",
              "          const dataTable =\n",
              "            await google.colab.kernel.invokeFunction('convertToInteractive',\n",
              "                                                     [key], {});\n",
              "          if (!dataTable) return;\n",
              "\n",
              "          const docLinkHtml = 'Like what you see? Visit the ' +\n",
              "            '<a target=\"_blank\" href=https://colab.research.google.com/notebooks/data_table.ipynb>data table notebook</a>'\n",
              "            + ' to learn more about interactive tables.';\n",
              "          element.innerHTML = '';\n",
              "          dataTable['output_type'] = 'display_data';\n",
              "          await google.colab.output.renderOutput(dataTable, element);\n",
              "          const docLink = document.createElement('div');\n",
              "          docLink.innerHTML = docLinkHtml;\n",
              "          element.appendChild(docLink);\n",
              "        }\n",
              "      </script>\n",
              "    </div>\n",
              "  </div>\n"
            ]
          },
          "metadata": {},
          "execution_count": 241
        }
      ]
    },
    {
      "cell_type": "code",
      "source": [
        "#Converting features and labels to numpy arrays to be fed into TensorDataset function\n",
        "features = np.array(df_dailyTrips[[\"t-7\", \"t-6\", \"t-5\", \"t-4\", \"t-3\", \"t-2\", \"t-1\"]])\n",
        "labels = np.array(df_dailyTrips[[\"trip_count\"]])\n",
        "print(f\"features shape: {features.shape}, labels shape: {labels.shape}\")"
      ],
      "metadata": {
        "colab": {
          "base_uri": "https://localhost:8080/"
        },
        "id": "RpwbMdaTr4p3",
        "outputId": "c65bd9e9-d61b-4403-f05a-e79d20120f16"
      },
      "execution_count": 242,
      "outputs": [
        {
          "output_type": "stream",
          "name": "stdout",
          "text": [
            "features shape: (450, 7), labels shape: (450, 1)\n"
          ]
        }
      ]
    },
    {
      "cell_type": "code",
      "source": [
        "#Checking the mean and standard deviation of the input features to see if scaling is necessary\n",
        "print(f\"Mean: {np.mean(features, axis=0)}\")\n",
        "print(f\"Standard Deviation: {np.std(features, axis=0)}\")\n",
        "print(f\"Inter-quartile Range: {np.percentile(features, 75, axis=0)-np.percentile(features, 25, axis=0)}\")"
      ],
      "metadata": {
        "id": "2fZhIdulW-DN",
        "outputId": "fc1db7ec-10cb-409d-e8d1-3ba6d1d21a1a",
        "colab": {
          "base_uri": "https://localhost:8080/"
        }
      },
      "execution_count": 243,
      "outputs": [
        {
          "output_type": "stream",
          "name": "stdout",
          "text": [
            "Mean: [7.84888889 7.87111111 7.86666667 7.85333333 7.88222222 7.91111111\n",
            " 7.87111111]\n",
            "Standard Deviation: [7.66082741 7.65833235 7.65535397 7.66207399 7.67951934 7.70806856\n",
            " 7.67108922]\n",
            "Inter-quartile Range: [10. 10. 10. 10. 10. 10. 10.]\n"
          ]
        }
      ]
    },
    {
      "cell_type": "markdown",
      "source": [
        "The descriptive statistics suggest that scaling is not necessary for the dataset."
      ],
      "metadata": {
        "id": "jtg_KnzSYeJ_"
      }
    },
    {
      "cell_type": "markdown",
      "source": [
        "Helper Functions"
      ],
      "metadata": {
        "id": "ZVczwSG0sSmu"
      }
    },
    {
      "cell_type": "code",
      "source": [
        "#Splitting training, validation, and testing data for action labels only\n",
        "def data_splitter(features, labels):\n",
        "  split_frac = 0.8\n",
        "  train_x = features[0:int(split_frac*len(features))]\n",
        "  train_y = labels[0:int(split_frac*len(features))]\n",
        "  remaining_x = features[int(split_frac*len(features)):]\n",
        "  remaining_y = labels[int(split_frac*len(features)):]\n",
        "  valid_x = remaining_x[0:int(len(remaining_x)*0.75)]\n",
        "  valid_y = remaining_y[0:int(len(remaining_y)*0.75)]\n",
        "  test_x = remaining_x[int(len(remaining_x)*0.75):]\n",
        "  test_y = remaining_y[int(len(remaining_y)*0.75):]\n",
        "\n",
        "  return train_x, train_y, valid_x, valid_y, test_x, test_y"
      ],
      "metadata": {
        "id": "J8uVqimBsStt"
      },
      "execution_count": 244,
      "outputs": []
    },
    {
      "cell_type": "code",
      "source": [
        "def data_loader(train_x, train_y, valid_x, valid_y, test_x, test_y, batch_size):\n",
        "  train_data = TensorDataset(torch.from_numpy(train_x).float(), torch.from_numpy(train_y).float())\n",
        "  valid_data = TensorDataset(torch.from_numpy(valid_x).float(), torch.from_numpy(valid_y).float())\n",
        "  test_data = TensorDataset(torch.from_numpy(test_x).float(), torch.from_numpy(test_y).float())\n",
        "\n",
        "  train_loader = DataLoader(train_data, shuffle=True, batch_size=batch_size)\n",
        "  valid_loader = DataLoader(valid_data, shuffle=False, batch_size=batch_size)\n",
        "  test_loader = DataLoader(test_data, shuffle=False, batch_size=len(test_data))\n",
        "\n",
        "  return train_loader, valid_loader, test_loader"
      ],
      "metadata": {
        "id": "5XC3JLNxsVYw"
      },
      "execution_count": 245,
      "outputs": []
    },
    {
      "cell_type": "markdown",
      "source": [
        "### **LSTM Class**"
      ],
      "metadata": {
        "id": "FPosfVU9SMTT"
      }
    },
    {
      "cell_type": "code",
      "source": [
        "class LSTM(nn.Module):\n",
        "\n",
        "  def __init__(self, input_size, hidden_size, output_size, num_layers, batch_size, loss, learning_rate, dropout=0.4):\n",
        "    super(LSTM, self).__init__()\n",
        "    self.num_layers, self.batch_size, self.hidden_size = num_layers, batch_size, hidden_size\n",
        "    self.lstm = nn.LSTM(input_size=input_size, hidden_size=hidden_size, num_layers=num_layers, bias=True, batch_first=True, dropout=dropout)\n",
        "    self.dropout = nn.Dropout(p=0.4)\n",
        "    self.fc = nn.Linear(hidden_size, output_size) #This layer is just going to convert the hidden state of size n>=1 to output of size 1\n",
        "\n",
        "    if loss==\"MSELoss\":\n",
        "      self.loss = nn.MSELoss()\n",
        "    elif loss==\"HuberLoss\":\n",
        "      self.loss = nn.HuberLoss()\n",
        "    elif loss==\"SmoothL1Loss\":\n",
        "      self.loss = nn.SmoothL1Loss()\n",
        "\n",
        "    self.optimizer = torch.optim.Adam(params=self.parameters(), lr=learning_rate)\n",
        "\n",
        "  def init_hiddens(self, batch_size):\n",
        "    weights = next(self.parameters()).data\n",
        "    hiddens = (weights.new(self.num_layers, batch_size, self.hidden_size).zero_(),\n",
        "              weights.new(self.num_layers, batch_size, self.hidden_size).zero_())\n",
        "    return hiddens\n",
        "\n",
        "  def forward(self, hiddens, inputs):\n",
        "    batch_size = inputs.size(0)\n",
        "\n",
        "    outputs, hn = self.lstm(inputs, hiddens) # outputs -> [batch_size, sequence_length, hidden_size]\n",
        "    outputs = outputs.contiguous().view(-1, self.hidden_size) # outputs -> [batch_size*seq_length, hidden_size]\n",
        "    outputs = self.dropout(outputs)\n",
        "    outputs = self.fc(outputs) # outputs -> [batch_size*seq_length, 1]\n",
        "\n",
        "    outputs = outputs.view(batch_size, -1) # outputs -> [batch_size, seq_length]\n",
        "    outputs = outputs[:,-1] # outputs -> [batch_size, 1]\n",
        "    return outputs, hn\n",
        "\n",
        "  def train(self, train_loader, valid_loader, epochs):\n",
        "    for epoch in range(epochs):\n",
        "      for i, (features, labels) in enumerate(train_loader):\n",
        "        batch_size = features.size(0)\n",
        "        hiddens = self.init_hiddens(batch_size)\n",
        "        outputs, _ = self.forward(hiddens, features.unsqueeze(2))\n",
        "        loss = self.loss(outputs.squeeze(), labels.float())\n",
        "\n",
        "        self.optimizer.zero_grad()\n",
        "        loss.backward()\n",
        "        #nn.utils.clip_grad_norm_(self.parameters(), 5)\n",
        "        self.optimizer.step()\n",
        "\n",
        "        if (epoch+1)%100==0:\n",
        "            total_valid_loss = []\n",
        "            for j,(valid_features, valid_labels) in enumerate(valid_loader):\n",
        "              batch_size = valid_features.size(0)\n",
        "              hiddens = self.init_hiddens(batch_size)\n",
        "              valid_outputs,_ = self.forward(hiddens, valid_features.unsqueeze(2))\n",
        "              valid_loss = self.loss(valid_outputs.squeeze(), valid_labels.float())\n",
        "              total_valid_loss.append(valid_loss.item())\n",
        "\n",
        "            print(f\"Epoch: {epoch+1} | step:{i} | training loss: {loss} | validation loss: {np.mean(total_valid_loss)}\")\n",
        "    print(\"Training Complete!\")\n",
        "\n",
        "  def test(self, test_loader):\n",
        "    test_losses = []\n",
        "    all_predictions = []\n",
        "\n",
        "    with torch.no_grad():\n",
        "      for features, labels in test_loader: #This will be only one iteration since test_laoder has only one batch\n",
        "        batch_size = features.size(0)\n",
        "        hiddens = self.init_hiddens(batch_size)\n",
        "        outputs, hiddens = self.forward(hiddens, features.unsqueeze(2))\n",
        "        loss = self.loss(labels.float(), outputs.squeeze())\n",
        "        test_losses.append(loss.item())\n",
        "\n",
        "        predictions = torch.round(outputs.squeeze()).numpy() #Rounding off to nearest integer makes it binary\n",
        "        all_predictions += predictions.tolist()\n",
        "\n",
        "      loss = np.mean(test_losses)\n",
        "      print(f\"Test loss: {loss}\")\n",
        "\n",
        "    return all_predictions, loss"
      ],
      "metadata": {
        "id": "4Bh7tNdQSR_U"
      },
      "execution_count": 252,
      "outputs": []
    },
    {
      "cell_type": "markdown",
      "source": [
        "## **Training**"
      ],
      "metadata": {
        "id": "VkNoHFQUsbt6"
      }
    },
    {
      "cell_type": "code",
      "source": [
        "train_x, train_y, valid_x, valid_y, test_x, test_y = data_splitter(features, labels)\n",
        "train_loader, valid_loader, test_loader = data_loader(train_x, train_y, valid_x, valid_y, test_x, test_y, 30)"
      ],
      "metadata": {
        "id": "VIJxvmGhapsU"
      },
      "execution_count": 248,
      "outputs": []
    },
    {
      "cell_type": "code",
      "source": [
        "model = LSTM(1, 4, 1, 2, 30, 'MSELoss', 0.01)\n",
        "model"
      ],
      "metadata": {
        "colab": {
          "base_uri": "https://localhost:8080/"
        },
        "id": "hai3jQD9shBr",
        "outputId": "3267e9a7-7381-4171-935d-b819580cefda"
      },
      "execution_count": 253,
      "outputs": [
        {
          "output_type": "execute_result",
          "data": {
            "text/plain": [
              "LSTM(\n",
              "  (lstm): LSTM(1, 4, num_layers=2, batch_first=True, dropout=0.4)\n",
              "  (dropout): Dropout(p=0.4, inplace=False)\n",
              "  (fc): Linear(in_features=4, out_features=1, bias=True)\n",
              "  (loss): MSELoss()\n",
              ")"
            ]
          },
          "metadata": {},
          "execution_count": 253
        }
      ]
    },
    {
      "cell_type": "code",
      "source": [
        "model.train(train_loader, valid_loader, 1000)"
      ],
      "metadata": {
        "id": "Rb6GnYd8tVra"
      },
      "execution_count": null,
      "outputs": []
    },
    {
      "cell_type": "markdown",
      "source": [
        "### **Hyperparameter Optimization**"
      ],
      "metadata": {
        "id": "FgK-dVtHrMa_"
      }
    },
    {
      "cell_type": "code",
      "source": [
        "def LstmOptimizer(config):\n",
        "  train_loader, valid_loader, test_loader = data_loader(train_x, train_y, valid_x, valid_y, test_x, test_y, config[\"batch_size\"])\n",
        "  model = LSTM(1, config[\"hidden_size\"], 1, config[\"num_layers\"], config[\"batch_size\"], config[\"loss\"], config[\"lr\"]) #input_size, hidden_size, output_size, num_layers, batch_size, loss, learning_rate, dropout\n",
        "  model.train(train_loader, valid_loader, config[\"epochs\"])\n",
        "  predictions, loss = model.test(test_loader)\n",
        "  tune.report(loss=loss)"
      ],
      "metadata": {
        "id": "tG8KnPEOwS-D"
      },
      "execution_count": 270,
      "outputs": []
    },
    {
      "cell_type": "code",
      "source": [
        "config={\"epochs\":tune.choice([500,1000,2000,3000,4000,5000]),\n",
        "        \"hidden_size\": tune.grid_search([4]),\n",
        "        \"batch_size\":tune.choice([5,10,20,40,80,160]),\n",
        "        \"lr\": tune.loguniform(0.001, 0.05),\n",
        "        \"loss\":tune.grid_search([\"MSELoss\"]),\n",
        "        \"num_layers\":tune.grid_search([1])}"
      ],
      "metadata": {
        "id": "SVdR-73XteMb"
      },
      "execution_count": 271,
      "outputs": []
    },
    {
      "cell_type": "code",
      "source": [
        "analysis = tune.run(LstmOptimizer, config=config)"
      ],
      "metadata": {
        "id": "Blj6M1wYrH-n",
        "outputId": "8036a9f4-87db-4fad-9056-bfb2ad71ec2a",
        "colab": {
          "base_uri": "https://localhost:8080/"
        }
      },
      "execution_count": null,
      "outputs": [
        {
          "output_type": "stream",
          "name": "stderr",
          "text": [
            "2023-08-12 03:52:57,696\tINFO tune.py:666 -- [output] This will use the new output engine with verbosity 2. To disable the new output and use the legacy output engine, set the environment variable RAY_AIR_NEW_OUTPUT=0. For more information, please see https://github.com/ray-project/ray/issues/36949\n",
            "2023-08-12 03:52:57,718\tWARNING callback.py:144 -- The TensorboardX logger cannot be instantiated because either TensorboardX or one of it's dependencies is not installed. Please make sure you have the latest version of TensorboardX installed: `pip install -U tensorboardx`\n"
          ]
        },
        {
          "output_type": "stream",
          "name": "stdout",
          "text": [
            "+----------------------------------------------------------------------+\n",
            "| Configuration for experiment     LstmOptimizer_2023-08-12_03-52-57   |\n",
            "+----------------------------------------------------------------------+\n",
            "| Search algorithm                 BasicVariantGenerator               |\n",
            "| Scheduler                        FIFOScheduler                       |\n",
            "| Number of trials                 1                                   |\n",
            "+----------------------------------------------------------------------+\n",
            "\n",
            "View detailed results here: /root/ray_results/LstmOptimizer_2023-08-12_03-52-57\n",
            "\n",
            "Trial status: 1 PENDING\n",
            "Current time: 2023-08-12 03:52:57. Total running time: 0s\n",
            "Logical resource usage: 0/2 CPUs, 0/0 GPUs\n",
            "+---------------------------------------------------------------------------------------------------------------------+\n",
            "| Trial name                  status       epochs     batch_size          lr     hidden_size   loss        num_layers |\n",
            "+---------------------------------------------------------------------------------------------------------------------+\n",
            "| LstmOptimizer_b9828_00000   PENDING         500             20   0.0231591               4   MSELoss              1 |\n",
            "+---------------------------------------------------------------------------------------------------------------------+\n",
            "\n"
          ]
        }
      ]
    },
    {
      "cell_type": "code",
      "source": [
        "analysis.get_best_config(metric=\"r2score\", mode=\"min\")"
      ],
      "metadata": {
        "id": "Sy6XcnS1rICS",
        "outputId": "7c3f3bcc-5ad7-4390-8052-9d8b17c37687",
        "colab": {
          "base_uri": "https://localhost:8080/"
        }
      },
      "execution_count": 225,
      "outputs": [
        {
          "output_type": "execute_result",
          "data": {
            "text/plain": [
              "{'lr': 0.01}"
            ]
          },
          "metadata": {},
          "execution_count": 225
        }
      ]
    },
    {
      "cell_type": "markdown",
      "source": [
        "### **Experimental Code**"
      ],
      "metadata": {
        "id": "JqEby2gxrIU5"
      }
    },
    {
      "cell_type": "code",
      "source": [
        "predictions, r2score = model.test(test_loader)"
      ],
      "metadata": {
        "colab": {
          "base_uri": "https://localhost:8080/"
        },
        "id": "k-IS6He4E3km",
        "outputId": "8a8a3c86-1c6c-4e6d-f96e-c552291828cf"
      },
      "execution_count": 212,
      "outputs": [
        {
          "output_type": "stream",
          "name": "stdout",
          "text": [
            "Test loss: 83.95713806152344\n"
          ]
        }
      ]
    },
    {
      "cell_type": "code",
      "source": [
        "r2score"
      ],
      "metadata": {
        "id": "19kIRzNHn9ye",
        "outputId": "b9727cb3-82fc-450b-8f9e-391a69744b2e",
        "colab": {
          "base_uri": "https://localhost:8080/"
        }
      },
      "execution_count": 213,
      "outputs": [
        {
          "output_type": "execute_result",
          "data": {
            "text/plain": [
              "-0.9883319797713375"
            ]
          },
          "metadata": {},
          "execution_count": 213
        }
      ]
    },
    {
      "cell_type": "code",
      "source": [
        "print(f\"Test RMSE: {np.sqrt(mean_squared_error(test_y, predictions))}\")"
      ],
      "metadata": {
        "id": "bNFoZ9GoQGxK",
        "outputId": "7bcc06c3-bc4a-46ca-f024-0277d01a7c22",
        "colab": {
          "base_uri": "https://localhost:8080/"
        }
      },
      "execution_count": 94,
      "outputs": [
        {
          "output_type": "stream",
          "name": "stdout",
          "text": [
            "Test RMSE: 10.77239269820983\n"
          ]
        }
      ]
    },
    {
      "cell_type": "code",
      "source": [
        "for feature, labels in test_loader:\n",
        "  print(r2_score(predictions, labels))"
      ],
      "metadata": {
        "id": "SP_qbtr1nMXg",
        "outputId": "9ea80f68-c884-4846-80cb-2cb8bfd04f16",
        "colab": {
          "base_uri": "https://localhost:8080/"
        }
      },
      "execution_count": 165,
      "outputs": [
        {
          "output_type": "stream",
          "name": "stdout",
          "text": [
            "-45.27203192550717\n"
          ]
        }
      ]
    },
    {
      "cell_type": "code",
      "source": [
        "plt.plot(predictions)\n",
        "plt.plot(test_y)"
      ],
      "metadata": {
        "id": "G-DPHQHrV13f",
        "outputId": "95dbe534-bb32-4c7d-fc19-6e07559108ea",
        "colab": {
          "base_uri": "https://localhost:8080/",
          "height": 448
        }
      },
      "execution_count": 96,
      "outputs": [
        {
          "output_type": "execute_result",
          "data": {
            "text/plain": [
              "[<matplotlib.lines.Line2D at 0x7a6d8b553310>]"
            ]
          },
          "metadata": {},
          "execution_count": 96
        },
        {
          "output_type": "display_data",
          "data": {
            "text/plain": [
              "<Figure size 640x480 with 1 Axes>"
            ],
            "image/png": "[encoded data removed]"
          },
          "metadata": {}
        }
      ]
    },
    {
      "cell_type": "code",
      "source": [
        "test_y.shape"
      ],
      "metadata": {
        "id": "BYINXcVmqV6n",
        "outputId": "c7e0c5cf-6a5d-47e0-8069-17c141197798",
        "colab": {
          "base_uri": "https://localhost:8080/"
        }
      },
      "execution_count": 209,
      "outputs": [
        {
          "output_type": "execute_result",
          "data": {
            "text/plain": [
              "(23, 1)"
            ]
          },
          "metadata": {},
          "execution_count": 209
        }
      ]
    },
    {
      "cell_type": "code",
      "source": [],
      "metadata": {
        "id": "EFJVhG9Qqh14"
      },
      "execution_count": null,
      "outputs": []
    }
  ]
}